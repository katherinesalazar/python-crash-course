{
 "cells": [
  {
   "cell_type": "markdown",
   "metadata": {},
   "source": [
    "# Try It Yourself - Page 25"
   ]
  },
  {
   "cell_type": "code",
   "execution_count": 35,
   "metadata": {},
   "outputs": [
    {
     "name": "stdout",
     "output_type": "stream",
     "text": [
      "Hello, Flo Milli would you like to learn python today!?\n"
     ]
    }
   ],
   "source": [
    "# 2-3 Personal Message: User a variable to represent a\n",
    "# person's name, and print a message to that person. Your \n",
    "# message should be simple such as \"Hello Eric, would you \n",
    "# like to learn python today?\"\n",
    "\n",
    "full_name = \"flo milli\"\n",
    "personal_message = f'Hello, {full_name.title()} would you like to learn python today!?'\n",
    "print(personal_message)"
   ]
  },
  {
   "cell_type": "code",
   "execution_count": 36,
   "metadata": {},
   "outputs": [
    {
     "name": "stdout",
     "output_type": "stream",
     "text": [
      "floww miilii\n",
      "FLOWW MIILII\n",
      "Floww Miilii\n"
     ]
    }
   ],
   "source": [
    "# 2-4 Name Cases: Use a variable to represent a person's name,\n",
    "# and then print that peron's name in lowercase, uppercase \n",
    "# and title case\n",
    "\n",
    "name = \"fLOWW MiilII\"\n",
    "\n",
    "print(name.lower())\n",
    "print(name.upper())\n",
    "print(name.title())"
   ]
  },
  {
   "cell_type": "code",
   "execution_count": 24,
   "metadata": {},
   "outputs": [],
   "source": [
    "# 2-5 & 2-6 Famous Quote: Find a quote, print the name, quote, \n",
    "# and the author. Your output should look something like: \n",
    "# Albert Entein once said, \"A person who never made a \n",
    "# mistake, never tired anything new.\"\n",
    "\n",
    "name = \"Flow Milli\"\n",
    "quote = \"I am\""
   ]
  },
  {
   "cell_type": "code",
   "execution_count": 34,
   "metadata": {},
   "outputs": [
    {
     "name": "stdout",
     "output_type": "stream",
     "text": [
      "Did you know, Flow Milli once said I Am\n"
     ]
    }
   ],
   "source": [
    "famous_quote = f'Did you know, {name.title()} once said {quote.title()}'\n",
    "print(famous_quote)"
   ]
  },
  {
   "cell_type": "code",
   "execution_count": 48,
   "metadata": {},
   "outputs": [
    {
     "name": "stdout",
     "output_type": "stream",
     "text": [
      "FLOW MILLI     \n",
      "    FLOW MILLI\n",
      "FLOW MILLI\n",
      "Name: \n",
      "\t FLOW MILLI\n"
     ]
    }
   ],
   "source": [
    "# 2-7 Stripping Names: Use a variable to represent a person's name, and include some whitespace characters at the\n",
    "# beginning at the end of the name. Make sure you use each character combo, \"\\t\" and \"\\n\", at leat once \n",
    "# Print the name once, so the whitespace around the name is displayed. \n",
    "# Then print the name using each of the three striping functions, lstrip(), rstrip, and strip()\n",
    "\n",
    "name = (\"    FLOW MILLI     \")\n",
    "print(name.lstrip())\n",
    "print(name.rstrip())\n",
    "print(name.strip())\n",
    "print('Name: \\n\\t FLOW MILLI')"
   ]
  },
  {
   "cell_type": "code",
   "execution_count": null,
   "metadata": {},
   "outputs": [],
   "source": []
  }
 ],
 "metadata": {
  "kernelspec": {
   "display_name": "Python 3",
   "language": "python",
   "name": "python3"
  },
  "language_info": {
   "codemirror_mode": {
    "name": "ipython",
    "version": 3
   },
   "file_extension": ".py",
   "mimetype": "text/x-python",
   "name": "python",
   "nbconvert_exporter": "python",
   "pygments_lexer": "ipython3",
   "version": "3.8.5"
  }
 },
 "nbformat": 4,
 "nbformat_minor": 4
}
